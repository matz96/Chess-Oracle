{
 "cells": [
  {
   "cell_type": "code",
   "execution_count": null,
   "metadata": {},
   "outputs": [],
   "source": [
    "import load_run_config\n",
    "path_to_training_data = load_run_config.main()"
   ]
  },
  {
   "cell_type": "code",
   "execution_count": null,
   "metadata": {},
   "outputs": [],
   "source": [
    "import pgn_to_custom_format\n",
    "from importlib import reload\n",
    "pgn_to_custom_format = reload(pgn_to_custom_format)\n",
    "\n",
    "evaluation_data = pgn_to_custom_format.read_pgn_files_min_move_number(path_to_training_data, 80)"
   ]
  },
  {
   "cell_type": "code",
   "execution_count": null,
   "metadata": {},
   "outputs": [],
   "source": [
    "import numpy as np\n",
    "\n",
    "game_data = np.asarray(evaluation_data, dtype=object)\n",
    "XTest = game_data[:,2]\n",
    "XTest = np.stack(XTest, axis=0)\n",
    "YTest = game_data[:,0]\n",
    "YTest = np.stack(YTest, axis=0)"
   ]
  },
  {
   "cell_type": "code",
   "execution_count": null,
   "metadata": {},
   "outputs": [],
   "source": [
    "from tensorflow import keras\n",
    "model = keras.models.load_model('C:\\\\Users\\\\Daniel Richner\\\\OneDrive - FHNW\\\\ML_Projekt\\\\Training_und_Modelle\\\\2018_DNN_768_4layer_relu')"
   ]
  },
  {
   "cell_type": "code",
   "execution_count": null,
   "metadata": {},
   "outputs": [],
   "source": [
    "sW_pW = 0\n",
    "sW_pB = 0\n",
    "sW_pD = 0\n",
    "sB_pW = 0\n",
    "sB_pB = 0\n",
    "sB_pD = 0\n",
    "sD_pW = 0\n",
    "sD_pB = 0\n",
    "sD_pD = 0\n",
    "\n",
    "predictions = model.predict(XTest, verbose=0)\n",
    "\n",
    "for i in range(predictions.shape[0]):\n",
    "    prediction = predictions[i]\n",
    "    if np.array_equal(YTest[i], np.array([1, 0, 0])):\n",
    "        if np.argmax(prediction) == 0:\n",
    "            sW_pW = sW_pW + 1\n",
    "        elif np.argmax(prediction) == 1:\n",
    "            sW_pB = sW_pB + 1\n",
    "        else:\n",
    "            sW_pD = sW_pD + 1\n",
    "    elif np.array_equal(YTest[i], np.array([0, 1, 0])):\n",
    "        if np.argmax(prediction) == 0:\n",
    "            sB_pW = sW_pW + 1\n",
    "        elif np.argmax(prediction) == 1:\n",
    "            sB_pB = sB_pB + 1\n",
    "        else:\n",
    "            sB_pD = sB_pD + 1\n",
    "    elif np.array_equal(YTest[i], np.array([0, 0, 1])):\n",
    "        if np.argmax(prediction) == 0:\n",
    "            sD_pW = sW_pW + 1\n",
    "        elif np.argmax(prediction) == 1:\n",
    "            sD_pB = sD_pB + 1\n",
    "        else:\n",
    "            sD_pD = sD_pD + 1\n",
    "    else: \n",
    "        print(\"Error\")\n",
    "\n",
    "print(sW_pW)\n",
    "print(sW_pB)\n",
    "print(sW_pD)\n",
    "print(sB_pW)\n",
    "print(sB_pB)\n",
    "print(sB_pD)\n",
    "print(sD_pW)\n",
    "print(sD_pB)\n",
    "print(sD_pD)       "
   ]
  },
  {
   "cell_type": "code",
   "execution_count": null,
   "metadata": {},
   "outputs": [],
   "source": [
    "w = 0\n",
    "b = 0\n",
    "d = 0\n",
    "for i in range(YTest.shape[0]):\n",
    "    if np.array_equal(YTest[i], np.array([1, 0, 0])):\n",
    "        w = w+1\n",
    "    elif np.array_equal(YTest[i], np.array([0, 1, 0])):\n",
    "        b = b+1\n",
    "    elif np.array_equal(YTest[i], np.array([0, 0, 1])):\n",
    "        d = d+1\n",
    "    else: \n",
    "        print(\"Error\")"
   ]
  },
  {
   "cell_type": "code",
   "execution_count": null,
   "metadata": {},
   "outputs": [],
   "source": [
    "print(w)\n",
    "print(b)\n",
    "print(d)"
   ]
  }
 ],
 "metadata": {
  "kernelspec": {
   "display_name": "Python 3.8.3 64-bit",
   "language": "python",
   "name": "python3"
  },
  "language_info": {
   "codemirror_mode": {
    "name": "ipython",
    "version": 3
   },
   "file_extension": ".py",
   "mimetype": "text/x-python",
   "name": "python",
   "nbconvert_exporter": "python",
   "pygments_lexer": "ipython3",
   "version": "3.8.3"
  },
  "orig_nbformat": 4,
  "vscode": {
   "interpreter": {
    "hash": "edc891f069e945d8080036ec40a51411f40e6c54de43a1e43da34098f3054cee"
   }
  }
 },
 "nbformat": 4,
 "nbformat_minor": 2
}
