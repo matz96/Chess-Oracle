{
 "cells": [
  {
   "cell_type": "code",
   "execution_count": null,
   "metadata": {},
   "outputs": [],
   "source": [
    "import load_run_config\n",
    "path_to_training_data = load_run_config.main()"
   ]
  },
  {
   "cell_type": "code",
   "execution_count": null,
   "metadata": {},
   "outputs": [],
   "source": [
    "import pgn_to_custom_format\n",
    "from importlib import reload\n",
    "pgn_to_custom_format = reload(pgn_to_custom_format)\n",
    "\n",
    "evaluation_data = pgn_to_custom_format.read_pgn_files_min_move_number(path_to_training_data, 10)"
   ]
  },
  {
   "cell_type": "code",
   "execution_count": null,
   "metadata": {},
   "outputs": [],
   "source": [
    "import numpy as np\n",
    "\n",
    "game_data = np.asarray(evaluation_data, dtype=object)\n",
    "XTest = game_data[:,2]\n",
    "XTest = np.stack(XTest, axis=0)\n",
    "YTest = game_data[:,0]\n",
    "YTest = np.stack(YTest, axis=0)"
   ]
  },
  {
   "cell_type": "code",
   "execution_count": null,
   "metadata": {},
   "outputs": [],
   "source": [
    "# Load model\n",
    "from tensorflow import keras\n",
    "model = keras.models.load_model('/home/matz/Documents/2018_S5_relu_ab1')"
   ]
  },
  {
   "cell_type": "code",
   "execution_count": null,
   "metadata": {},
   "outputs": [],
   "source": [
    "import train_model\n",
    "from importlib import reload\n",
    "i = 0\n",
    "\n",
    "prediction = model.predict(XTest[i:i+1], verbose=0)\n",
    "\n",
    "print(prediction)\n",
    "\n",
    "print(YTest[i])\n"
   ]
  }
 ],
 "metadata": {
  "kernelspec": {
   "display_name": "Python 3.8.10 64-bit",
   "language": "python",
   "name": "python3"
  },
  "language_info": {
   "codemirror_mode": {
    "name": "ipython",
    "version": 3
   },
   "file_extension": ".py",
   "mimetype": "text/x-python",
   "name": "python",
   "nbconvert_exporter": "python",
   "pygments_lexer": "ipython3",
   "version": "3.8.10"
  },
  "orig_nbformat": 4,
  "vscode": {
   "interpreter": {
    "hash": "31f2aee4e71d21fbe5cf8b01ff0e069b9275f58929596ceb00d14d90e3e16cd6"
   }
  }
 },
 "nbformat": 4,
 "nbformat_minor": 2
}
