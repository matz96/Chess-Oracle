{
 "cells": [
  {
   "cell_type": "code",
   "execution_count": null,
   "metadata": {},
   "outputs": [],
   "source": [
    "import load_run_config\n",
    "path_to_training_data = load_run_config.main()"
   ]
  },
  {
   "cell_type": "code",
   "execution_count": null,
   "metadata": {},
   "outputs": [],
   "source": [
    "import pgn_to_custom_format\n",
    "from importlib import reload\n",
    "pgn_to_custom_format = reload(pgn_to_custom_format)\n",
    "\n",
    "training_data = pgn_to_custom_format.read_pgn_files_min_move_number(path_to_training_data, 15)"
   ]
  },
  {
   "cell_type": "code",
   "execution_count": null,
   "metadata": {},
   "outputs": [],
   "source": [
    "import numpy as np\n",
    "\n",
    "game_data = np.asarray(moves, dtype=object)\n",
    "XTrain = game_data[:,2]\n",
    "XTrain = np.stack(XTrain, axis=0)\n",
    "YTrain = game_data[:,0]\n",
    "YTrain = np.stack(YTrain, axis=0)"
   ]
  },
  {
   "cell_type": "code",
   "execution_count": null,
   "metadata": {},
   "outputs": [],
   "source": [
    "import train_model\n",
    "from importlib import reload\n",
    "train_model = reload(train_model)\n",
    "\n",
    "model = train_model.train(XTrain, YTrain)"
   ]
  },
  {
   "cell_type": "code",
   "execution_count": null,
   "metadata": {},
   "outputs": [],
   "source": [
    "model.save(\"2018_DNN_768_4layer_relu\")"
   ]
  }
 ],
 "metadata": {
  "kernelspec": {
   "display_name": "Python 3.8.3 64-bit",
   "language": "python",
   "name": "python3"
  },
  "language_info": {
   "codemirror_mode": {
    "name": "ipython",
    "version": 3
   },
   "file_extension": ".py",
   "mimetype": "text/x-python",
   "name": "python",
   "nbconvert_exporter": "python",
   "pygments_lexer": "ipython3",
   "version": "3.8.3"
  },
  "orig_nbformat": 4,
  "vscode": {
   "interpreter": {
    "hash": "edc891f069e945d8080036ec40a51411f40e6c54de43a1e43da34098f3054cee"
   }
  }
 },
 "nbformat": 4,
 "nbformat_minor": 2
}
